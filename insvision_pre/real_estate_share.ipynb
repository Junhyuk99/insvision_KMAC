{
 "cells": [
  {
   "cell_type": "code",
   "execution_count": 1,
   "id": "initial_id",
   "metadata": {
    "collapsed": true,
    "ExecuteTime": {
     "end_time": "2024-09-04T01:46:21.119571Z",
     "start_time": "2024-09-04T01:46:21.112625Z"
    }
   },
   "outputs": [],
   "source": [
    "import xml.etree.ElementTree as ET\n",
    "import pandas as pd\n",
    "\n",
    "def get_items(response):\n",
    "    root = ET.fromstring(response.content)\n",
    "    item_list = []\n",
    "    for child in root.find('body').find('items'):\n",
    "        elements = child.findall('*')\n",
    "        data = {}\n",
    "        for element in elements:\n",
    "            tag = element.tag.strip()\n",
    "            text = element.text.strip()\n",
    "            data[tag]=text\n",
    "        item_list.append(data)\n",
    "    return item_list\n",
    "\n",
    "# items_list = get_items(res)\n",
    "# items = pd.DataFrame(items_list)\n",
    "# items.head()"
   ]
  },
  {
   "cell_type": "code",
   "outputs": [],
   "source": [
    "import requests\n",
    "import datetime\n",
    "\n",
    "def get_data(gu_code, search_date):\n",
    "    url = \"https://apis.data.go.kr/1613000/RTMSDataSvcAptTrade/getRTMSDataSvcAptTrade?\"\n",
    "    service_key = \"01K5GY%2BOqRwRKCTe5O6JRPa3GMbKfjksVKi64n3xuOpFncW%2BGAebIxWQ3TDL21HwVCAWPw4p7mkpxuM0Mp3wLQ%3D%3D\"\n",
    "    page_no = \"1\"\n",
    "    \n",
    "    num_of_rows = \"10000000\"\n",
    "\n",
    "    call_code = \"serviceKey=\" + service_key + \"&\" + \\\n",
    "            \"LAWD_CD=\" + gu_code + \"&\" + \\\n",
    "            \"DEAL_YMD=\" + search_date + \"&\" + \\\n",
    "            \"pageNo=\" + page_no + \"&\" + \"numOfRows=\" + num_of_rows\n",
    "\n",
    "    res = requests.get(url + call_code)\n",
    "    return res"
   ],
   "metadata": {
    "collapsed": false,
    "ExecuteTime": {
     "end_time": "2024-09-04T01:48:02.391918Z",
     "start_time": "2024-09-04T01:48:02.384125Z"
    }
   },
   "id": "c0f0684d1f3bbf08",
   "execution_count": 4
  },
  {
   "cell_type": "code",
   "outputs": [
    {
     "ename": "TypeError",
     "evalue": "can only concatenate str (not \"int\") to str",
     "output_type": "error",
     "traceback": [
      "\u001B[0;31m---------------------------------------------------------------------------\u001B[0m",
      "\u001B[0;31mTypeError\u001B[0m                                 Traceback (most recent call last)",
      "Input \u001B[0;32mIn [5]\u001B[0m, in \u001B[0;36m<cell line: 4>\u001B[0;34m()\u001B[0m\n\u001B[1;32m      4\u001B[0m \u001B[38;5;28;01mfor\u001B[39;00m search_date \u001B[38;5;129;01min\u001B[39;00m search_date_list:\n\u001B[1;32m      5\u001B[0m     \u001B[38;5;28;01mfor\u001B[39;00m gu_code \u001B[38;5;129;01min\u001B[39;00m gu_code_list:\n\u001B[0;32m----> 6\u001B[0m         res \u001B[38;5;241m=\u001B[39m \u001B[43mget_data\u001B[49m\u001B[43m(\u001B[49m\u001B[43mgu_code\u001B[49m\u001B[43m,\u001B[49m\u001B[43m \u001B[49m\u001B[43msearch_date\u001B[49m\u001B[43m)\u001B[49m\n\u001B[1;32m      7\u001B[0m         items_list \u001B[38;5;241m+\u001B[39m\u001B[38;5;241m=\u001B[39m get_items(res)\n\u001B[1;32m      9\u001B[0m \u001B[38;5;28mlen\u001B[39m(items_list)\n",
      "Input \u001B[0;32mIn [4]\u001B[0m, in \u001B[0;36mget_data\u001B[0;34m(gu_code, search_date)\u001B[0m\n\u001B[1;32m      7\u001B[0m page_no \u001B[38;5;241m=\u001B[39m \u001B[38;5;241m1\u001B[39m\n\u001B[1;32m      9\u001B[0m num_of_rows \u001B[38;5;241m=\u001B[39m \u001B[38;5;124m\"\u001B[39m\u001B[38;5;124m10000000\u001B[39m\u001B[38;5;124m\"\u001B[39m\n\u001B[0;32m---> 11\u001B[0m call_code \u001B[38;5;241m=\u001B[39m \u001B[38;5;124;43m\"\u001B[39;49m\u001B[38;5;124;43mserviceKey=\u001B[39;49m\u001B[38;5;124;43m\"\u001B[39;49m\u001B[43m \u001B[49m\u001B[38;5;241;43m+\u001B[39;49m\u001B[43m \u001B[49m\u001B[43mservice_key\u001B[49m\u001B[43m \u001B[49m\u001B[38;5;241;43m+\u001B[39;49m\u001B[43m \u001B[49m\u001B[38;5;124;43m\"\u001B[39;49m\u001B[38;5;124;43m&\u001B[39;49m\u001B[38;5;124;43m\"\u001B[39;49m\u001B[43m \u001B[49m\u001B[38;5;241;43m+\u001B[39;49m\u001B[43m \u001B[49m\u001B[43m\\\u001B[49m\n\u001B[1;32m     12\u001B[0m \u001B[43m        \u001B[49m\u001B[38;5;124;43m\"\u001B[39;49m\u001B[38;5;124;43mLAWD_CD=\u001B[39;49m\u001B[38;5;124;43m\"\u001B[39;49m\u001B[43m \u001B[49m\u001B[38;5;241;43m+\u001B[39;49m\u001B[43m \u001B[49m\u001B[43mgu_code\u001B[49m\u001B[43m \u001B[49m\u001B[38;5;241;43m+\u001B[39;49m\u001B[43m \u001B[49m\u001B[38;5;124;43m\"\u001B[39;49m\u001B[38;5;124;43m&\u001B[39;49m\u001B[38;5;124;43m\"\u001B[39;49m\u001B[43m \u001B[49m\u001B[38;5;241;43m+\u001B[39;49m\u001B[43m \u001B[49m\u001B[43m\\\u001B[49m\n\u001B[1;32m     13\u001B[0m \u001B[43m        \u001B[49m\u001B[38;5;124;43m\"\u001B[39;49m\u001B[38;5;124;43mDEAL_YMD=\u001B[39;49m\u001B[38;5;124;43m\"\u001B[39;49m\u001B[43m \u001B[49m\u001B[38;5;241;43m+\u001B[39;49m\u001B[43m \u001B[49m\u001B[43msearch_date\u001B[49m\u001B[43m \u001B[49m\u001B[38;5;241;43m+\u001B[39;49m\u001B[43m \u001B[49m\u001B[38;5;124;43m\"\u001B[39;49m\u001B[38;5;124;43m&\u001B[39;49m\u001B[38;5;124;43m\"\u001B[39;49m\u001B[43m \u001B[49m\u001B[38;5;241;43m+\u001B[39;49m\u001B[43m \u001B[49m\u001B[43m\\\u001B[49m\n\u001B[1;32m     14\u001B[0m \u001B[43m        \u001B[49m\u001B[38;5;124;43m\"\u001B[39;49m\u001B[38;5;124;43mpageNo=\u001B[39;49m\u001B[38;5;124;43m\"\u001B[39;49m\u001B[43m \u001B[49m\u001B[38;5;241;43m+\u001B[39;49m\u001B[43m \u001B[49m\u001B[43mpage_no\u001B[49m \u001B[38;5;241m+\u001B[39m \u001B[38;5;124m\"\u001B[39m\u001B[38;5;124m&\u001B[39m\u001B[38;5;124m\"\u001B[39m \u001B[38;5;241m+\u001B[39m \u001B[38;5;124m\"\u001B[39m\u001B[38;5;124mnumOfRows=\u001B[39m\u001B[38;5;124m\"\u001B[39m \u001B[38;5;241m+\u001B[39m num_of_rows\n\u001B[1;32m     16\u001B[0m res \u001B[38;5;241m=\u001B[39m requests\u001B[38;5;241m.\u001B[39mget(url \u001B[38;5;241m+\u001B[39m call_code)\n\u001B[1;32m     17\u001B[0m \u001B[38;5;28;01mreturn\u001B[39;00m res\n",
      "\u001B[0;31mTypeError\u001B[0m: can only concatenate str (not \"int\") to str"
     ]
    }
   ],
   "source": [
    "search_date_list = [\"202301\", \"202302\", \"202303\", \"202304\", \"202305\", \"202306\", \"202307\", \"202308\", \"202309\", \"202310\",\"202311\",\"202312\",\"202401\", \"202402\", \"202403\", \"202404\", \"202405\", \"202406\", \"202407\", \"202408\"]\n",
    "gu_code_list = [\"41281\", \"41285\", \"41287\"]\n",
    "items_list = []\n",
    "for search_date in search_date_list:\n",
    "    for gu_code in gu_code_list:\n",
    "        res = get_data(gu_code, search_date)\n",
    "        items_list += get_items(res)\n",
    "    \n",
    "len(items_list)\n",
    "#고양시 전체 2023~2024 기준 23초 소요됩니다"
   ],
   "metadata": {
    "collapsed": false,
    "ExecuteTime": {
     "end_time": "2024-09-04T01:48:03.727403Z",
     "start_time": "2024-09-04T01:48:02.871651Z"
    }
   },
   "id": "95844cd1309059dc",
   "execution_count": 5
  },
  {
   "cell_type": "code",
   "outputs": [],
   "source": [
    "items = pd.DataFrame(items_list)\n",
    "items.head()"
   ],
   "metadata": {
    "collapsed": false
   },
   "id": "5ed139469e29ae14"
  }
 ],
 "metadata": {
  "kernelspec": {
   "display_name": "Python 3",
   "language": "python",
   "name": "python3"
  },
  "language_info": {
   "codemirror_mode": {
    "name": "ipython",
    "version": 2
   },
   "file_extension": ".py",
   "mimetype": "text/x-python",
   "name": "python",
   "nbconvert_exporter": "python",
   "pygments_lexer": "ipython2",
   "version": "2.7.6"
  }
 },
 "nbformat": 4,
 "nbformat_minor": 5
}
