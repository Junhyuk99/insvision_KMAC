{
 "cells": [
  {
   "cell_type": "code",
   "execution_count": null,
   "id": "initial_id",
   "metadata": {
    "collapsed": true
   },
   "outputs": [],
   "source": [
    "import dash\n",
    "from dash import dcc, html\n",
    "import plotly.express as px\n",
    "\n",
    "goyang_monthly_tx = apt_indi_goyang.copy()\n",
    "def convert_to_year_week(week_code):\n",
    "    year = int(week_code[:4])\n",
    "    week = int(week_code[4:])\n",
    "    return f'{year}년 {week}주차'\n",
    "\n",
    "y_min = goyang_monthly_tx['DTA_VAL'].min()\n",
    "y_min_with_margin = y_min - (y_min * 0.005)\n",
    "y_max = goyang_monthly_tx['DTA_VAL'].max()\n",
    "y_max_with_margin = y_max + (y_max * 0.005)\n",
    "\n",
    "# Plotly 그래프 생성\n",
    "fig = px.line(goyang_monthly_tx, \n",
    "              x='WRTTIME_IDTFR_ID', \n",
    "              y='DTA_VAL', \n",
    "              markers=False, \n",
    "              line_shape='spline',\n",
    "              )\n",
    "\n",
    "fig.update_traces(line=dict(color='#007BFF', width=5))\n",
    "\n",
    "fig.update_layout(\n",
    "    xaxis=dict(\n",
    "        showline=True,\n",
    "        showticklabels=False,\n",
    "        title=None,\n",
    "        showgrid=False,\n",
    "    ),\n",
    "    yaxis=dict(\n",
    "        showline=True,\n",
    "        showticklabels=True,\n",
    "        title=None,\n",
    "        tickfont=dict(size=25, family='Verdana', color='gray'),\n",
    "        tickmode='array',\n",
    "        showgrid=True,\n",
    "        gridcolor='rgba(211, 211, 211, 0.5)',\n",
    "        gridwidth=1,\n",
    "        range=[y_min_with_margin, y_max_with_margin]\n",
    "    ),\n",
    "    width=750,\n",
    "    height=500,\n",
    "    plot_bgcolor='white',\n",
    "    paper_bgcolor='white',\n",
    "    xaxis_tickformat='%Y년',\n",
    "    margin=dict(l=40, r=40, t=80, b=60),\n",
    ")\n",
    "\n",
    "app = dash.Dash(__name__)\n",
    "\n",
    "app.layout = html.Div([\n",
    "    dcc.Graph(id='line-chart', figure=fig)\n",
    "])\n",
    "\n",
    "if __name__ == '__main__':\n",
    "    app.run_server(debug=True)\n"
   ]
  }
 ],
 "metadata": {
  "kernelspec": {
   "display_name": "Python 3",
   "language": "python",
   "name": "python3"
  },
  "language_info": {
   "codemirror_mode": {
    "name": "ipython",
    "version": 2
   },
   "file_extension": ".py",
   "mimetype": "text/x-python",
   "name": "python",
   "nbconvert_exporter": "python",
   "pygments_lexer": "ipython2",
   "version": "2.7.6"
  }
 },
 "nbformat": 4,
 "nbformat_minor": 5
}
