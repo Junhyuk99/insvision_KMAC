{
 "cells": [
  {
   "cell_type": "code",
   "execution_count": 1,
   "id": "initial_id",
   "metadata": {
    "collapsed": true,
    "ExecuteTime": {
     "end_time": "2024-09-04T04:00:39.059738Z",
     "start_time": "2024-09-04T04:00:38.458863Z"
    }
   },
   "outputs": [
    {
     "ename": "ModuleNotFoundError",
     "evalue": "No module named 'PublicDataReader'",
     "output_type": "error",
     "traceback": [
      "\u001B[0;31m---------------------------------------------------------------------------\u001B[0m",
      "\u001B[0;31mModuleNotFoundError\u001B[0m                       Traceback (most recent call last)",
      "Input \u001B[0;32mIn [1]\u001B[0m, in \u001B[0;36m<cell line: 3>\u001B[0;34m()\u001B[0m\n\u001B[1;32m      1\u001B[0m \u001B[38;5;28;01mimport\u001B[39;00m \u001B[38;5;21;01mmatplotlib\u001B[39;00m\u001B[38;5;21;01m.\u001B[39;00m\u001B[38;5;21;01mpyplot\u001B[39;00m \u001B[38;5;28;01mas\u001B[39;00m \u001B[38;5;21;01mplt\u001B[39;00m\n\u001B[1;32m      2\u001B[0m \u001B[38;5;28;01mimport\u001B[39;00m \u001B[38;5;21;01mseaborn\u001B[39;00m \u001B[38;5;28;01mas\u001B[39;00m \u001B[38;5;21;01msns\u001B[39;00m\n\u001B[0;32m----> 3\u001B[0m \u001B[38;5;28;01mimport\u001B[39;00m \u001B[38;5;21;01mPublicDataReader\u001B[39;00m \u001B[38;5;28;01mas\u001B[39;00m \u001B[38;5;21;01mpdr\u001B[39;00m\n\u001B[1;32m      4\u001B[0m \u001B[38;5;28;01mfrom\u001B[39;00m \u001B[38;5;21;01mPublicDataReader\u001B[39;00m \u001B[38;5;28;01mimport\u001B[39;00m TransactionPrice\n\u001B[1;32m      5\u001B[0m \u001B[38;5;28;01mimport\u001B[39;00m \u001B[38;5;21;01mpandas\u001B[39;00m \u001B[38;5;28;01mas\u001B[39;00m \u001B[38;5;21;01mpd\u001B[39;00m\n",
      "\u001B[0;31mModuleNotFoundError\u001B[0m: No module named 'PublicDataReader'"
     ]
    }
   ],
   "source": [
    "import matplotlib.pyplot as plt\n",
    "import seaborn as sns\n",
    "import PublicDataReader as pdr\n",
    "from PublicDataReader import TransactionPrice\n",
    "import pandas as pd\n",
    "\n",
    "service_key = \"01K5GY%2BOqRwRKCTe5O6JRPa3GMbKfjksVKi64n3xuOpFncW%2BGAebIxWQ3TDL21HwVCAWPw4p7mkpxuM0Mp3wLQ%3D%3D\"\n",
    "api = TransactionPrice(service_key)"
   ]
  },
  {
   "cell_type": "code",
   "outputs": [],
   "source": [
    "# 분석 대상 지역 설정\n",
    "sigungu_name = \"마포구\"\n",
    "code = pdr.code_bdong()\n",
    "sigungu_code = code.loc[(code['시군구명'].str.contains(sigungu_name)) &\n",
    "                        (code['읍면동명'] == ''), '시군구코드'].values[0]\n",
    "\n",
    "# 지정한 기간 (2023년 1월 ~ 6월) 동안의 아파트 거래 데이터 조회\n",
    "df = api.get_data(\n",
    "    property_type=\"아파트\",\n",
    "    trade_type=\"매매\",\n",
    "    sigungu_code=sigungu_code,\n",
    "    start_year_month=\"202301\",\n",
    "    end_year_month=\"202306\",  # 6월까지 업데이트\n",
    ")"
   ],
   "metadata": {
    "collapsed": false
   },
   "id": "da1d3f6d11fa6ea1"
  }
 ],
 "metadata": {
  "kernelspec": {
   "display_name": "Python 3",
   "language": "python",
   "name": "python3"
  },
  "language_info": {
   "codemirror_mode": {
    "name": "ipython",
    "version": 2
   },
   "file_extension": ".py",
   "mimetype": "text/x-python",
   "name": "python",
   "nbconvert_exporter": "python",
   "pygments_lexer": "ipython2",
   "version": "2.7.6"
  }
 },
 "nbformat": 4,
 "nbformat_minor": 5
}
